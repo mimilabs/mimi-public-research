{
 "cells": [
  {
   "cell_type": "markdown",
   "metadata": {
    "application/vnd.databricks.v1+cell": {
     "cellMetadata": {
      "byteLimit": 2048000,
      "rowLimit": 10000
     },
     "inputWidgets": {},
     "nuid": "819b63c3-ebd5-400f-8129-dae1759eb4e2",
     "showTitle": false,
     "tableResultSettingsMap": {},
     "title": ""
    }
   },
   "source": [
    "\n",
    "# Medicare Advantage Coverage and Deductible Analysis 2024-2025\n",
    "\n",
    "**Note: This research script is made publicly available to promote transparency in healthcare analytics and foster collaborative research. We encourage other researchers to build upon this work to further analyze Medicare Advantage market dynamics and their impact on beneficiaries.**\n",
    "\n",
    "Analysis script examining Medicare Advantage regional coverage changes and Part D drug deductible increases between 2024-2025. Focuses on tracking coverage region modifications and analyzing deductible changes, including the $91-$114 average increase per member and specific impacts on previously $0-deductible plans (~9 million members). Based on Mimilabs data.\n",
    "\n",
    "## Research Transparency and Educational Use\n",
    "- Source code and methodology published for reproducibility\n",
    "- Encourages peer review and validation of findings\n",
    "- Supports academic and industry researchers in conducting follow-up studies\n",
    "- Facilitates understanding of Medicare Advantage market dynamics\n",
    "- Promotes evidence-based policy discussions\n",
    "\n",
    "## Limitations and Assumptions\n",
    "\n",
    "### Data Exclusions\n",
    "- Contract IDs and Plan IDs missing from both 2024 and 2025 landscape files are excluded from deductible comparison analysis, despite showing non-zero enrollments in some areas\n",
    "\n",
    "### Geographic Considerations\n",
    "- MAPD (Medicare Advantage Prescription Drug) data analyzed at county level\n",
    "- PDP (Prescription Drug Plan) data analyzed at state level\n",
    "- Data merging maintains respective geographic aggregation levels\n",
    "\n",
    "### Member Transition Assumptions\n",
    "- MAPD members assumed to transition only to other MAPD plans within same county\n",
    "- PDP members assumed to transition only to other PDP plans within same state\n",
    "- Zero member churn assumed in transition calculations\n",
    "\n",
    "### Reference Data\n",
    "- Enrollment numbers based on October 2024 data\n",
    "- Plan transitions tracked using latest plan crosswalk file\n",
    "\n",
    "Originally published in the American Journal of Managed Care (AJMC). Link: https://www.ajmc.com/view/contributor-vulnerable-seniors-are-at-risk-with-looming-medicare-advantage-cuts-income-based-programs-can-minimize-the-damage"
   ]
  },
  {
   "cell_type": "markdown",
   "metadata": {
    "application/vnd.databricks.v1+cell": {
     "cellMetadata": {},
     "inputWidgets": {},
     "nuid": "460408af-3892-499b-95ca-138c7e50363a",
     "showTitle": false,
     "tableResultSettingsMap": {},
     "title": ""
    }
   },
   "source": [
    "# 1. Loading datasets"
   ]
  },
  {
   "cell_type": "code",
   "execution_count": 0,
   "metadata": {
    "application/vnd.databricks.v1+cell": {
     "cellMetadata": {
      "byteLimit": 2048000,
      "rowLimit": 10000
     },
     "inputWidgets": {},
     "nuid": "d5a26127-bf0d-4b7a-83c3-a47df416728a",
     "showTitle": false,
     "tableResultSettingsMap": {},
     "title": ""
    }
   },
   "outputs": [],
   "source": [
    "%run /Workspace/utils/basic"
   ]
  },
  {
   "cell_type": "code",
   "execution_count": 0,
   "metadata": {
    "application/vnd.databricks.v1+cell": {
     "cellMetadata": {
      "byteLimit": 2048000,
      "rowLimit": 10000
     },
     "inputWidgets": {},
     "nuid": "c795264c-dab2-47a8-a921-cb983cd6a3ef",
     "showTitle": false,
     "tableResultSettingsMap": {},
     "title": ""
    }
   },
   "outputs": [],
   "source": [
    "%pip install us"
   ]
  },
  {
   "cell_type": "code",
   "execution_count": 0,
   "metadata": {
    "application/vnd.databricks.v1+cell": {
     "cellMetadata": {
      "byteLimit": 2048000,
      "rowLimit": 10000
     },
     "inputWidgets": {},
     "nuid": "3e6f6e50-e3ff-4050-aa72-30b29ff82999",
     "showTitle": false,
     "tableResultSettingsMap": {},
     "title": ""
    }
   },
   "outputs": [],
   "source": [
    "import us\n",
    "import pandas as pd\n",
    "import pyspark.sql.functions as F\n",
    "from pyspark.sql.types import StringType\n",
    "\n",
    "# State name format mismatch between files:\n",
    "# - Landscape files: Full state names (e.g., \"California\")\n",
    "# - Enrollment files: State abbreviations (e.g., \"CA\")\n",
    "# Solution: Use 'us' Python package to create state name crosswalk\n",
    "# Example: states_map = {state.name: state.abbr for state in us.states.STATES}\n",
    "state_dict = {state.abbr: state.name for state in us.states.STATES}\n",
    "state_dict['DC'] = 'District of Columbia'\n",
    "fn = \"PlanCrosswalk2024_10012024.txt\"\n",
    "volumepath = \"/Volumes/mimi_ws_1/partcd/src/plancrosswalk/\"\n",
    "filepath = volumepath + fn\n",
    "curr_year = 2024\n",
    "next_year = 2025\n",
    "\n",
    "# User Defined Function to convert state abbreviations to full state names\n",
    "@F.udf(returnType=StringType())\n",
    "def state_abbr_to_name(abbr):\n",
    "    return state_dict.get(abbr, \"Unknown\")"
   ]
  },
  {
   "cell_type": "code",
   "execution_count": 0,
   "metadata": {
    "application/vnd.databricks.v1+cell": {
     "cellMetadata": {
      "byteLimit": 2048000,
      "rowLimit": 10000
     },
     "inputWidgets": {},
     "nuid": "c444add3-fb44-43e8-849f-c968b7f954d0",
     "showTitle": false,
     "tableResultSettingsMap": {},
     "title": ""
    }
   },
   "outputs": [],
   "source": [
    "# Column name mappings\n",
    "COL_MAPS = {\n",
    "    'enrollment': {'contract_id': 'cid_curr', 'plan_id': 'pid_curr'},\n",
    "    'crosswalk': {\n",
    "        'PREVIOUS_CONTRACT_ID': 'cid_curr', 'PREVIOUS_PLAN_ID': 'pid_curr',\n",
    "        'CURRENT_CONTRACT_ID': 'cid_next', 'CURRENT_PLAN_ID': 'pid_next'\n",
    "    },\n",
    "    'landscape': {\n",
    "        'curr': {'contract_id': 'cid_curr', 'plan_id': 'pid_curr', 'part_d_drug_deductible': 'dd_curr'},\n",
    "        'next': {'contract_id': 'cid_next', 'plan_id': 'pid_next', 'part_d_drug_deductible': 'dd_next'}\n",
    "    }\n",
    "}\n",
    "\n",
    "# Load data frames\n",
    "df_enrollment = (get_df_latest(spark.read.table(\"mimi_ws_1.partcd.cpsc_combined\"))\n",
    "                .withColumn('state', state_abbr_to_name(F.col('state')))\n",
    "                .withColumnsRenamed(COL_MAPS['enrollment']))\n",
    "\n",
    "df_crosswalk = (spark.createDataFrame(pd.read_csv(filepath, sep='\\t', encoding='ISO-8859-1', dtype=str))\n",
    "                .withColumnsRenamed(COL_MAPS['crosswalk']))\n",
    "\n",
    "df_landscape_curr = (spark.read.table(\"mimi_ws_1.partcd.landscape_plan_premium_report\")\n",
    "                    .where(f\"YEAR(mimi_src_file_date) = {curr_year}\")\n",
    "                    .withColumnsRenamed(COL_MAPS['landscape']['curr']))\n",
    "\n",
    "df_landscape_next = (spark.read.table(\"mimi_ws_1.partcd.landscape_plan_premium_report\")\n",
    "                    .where(f\"YEAR(mimi_src_file_date) = {next_year}\")\n",
    "                    .withColumnsRenamed(COL_MAPS['landscape']['next']))"
   ]
  },
  {
   "cell_type": "markdown",
   "metadata": {
    "application/vnd.databricks.v1+cell": {
     "cellMetadata": {
      "byteLimit": 2048000,
      "rowLimit": 10000
     },
     "inputWidgets": {},
     "nuid": "a868611f-c3f0-4081-b24a-45e858510d75",
     "showTitle": false,
     "tableResultSettingsMap": {},
     "title": ""
    }
   },
   "source": [
    "# 2. Plan Discontinuation Impact Analysis\n",
    "\n",
    "Analysis of Medicare Advantage membership affected by plan exits in 2024-2025. Quantifies the number of beneficiaries who will lose access to their current plans due to contract terminations or plan discontinuations. Based on October 2024 enrollment data matched against 2025 landscape files to identify discontinued contracts and affected membership.\n",
    "\n",
    "## Methodology\n",
    "- Members with automatic plan transitions (identified via plan crosswalk file) are excluded from the \"lost plan\" count\n",
    "- These members will be automatically enrolled in their new designated plans\n",
    "- Analysis assumes zero member churn during transition period\n",
    "- Resulting estimates are conservative, as they only count members who have no automatic transition path to a new plan\n",
    "\n",
    "Note: This method provides a lower-bound estimate of disruption, focusing solely on members who must actively choose a new plan for 2025."
   ]
  },
  {
   "cell_type": "code",
   "execution_count": 0,
   "metadata": {
    "application/vnd.databricks.v1+cell": {
     "cellMetadata": {
      "byteLimit": 2048000,
      "rowLimit": 10000
     },
     "inputWidgets": {},
     "nuid": "8d3d5998-2c5d-4011-abba-657c4a01056d",
     "showTitle": false,
     "tableResultSettingsMap": {},
     "title": ""
    }
   },
   "outputs": [
    {
     "output_type": "display_data",
     "data": {
      "text/plain": [
       "Databricks visualization. Run in Databricks to view."
      ]
     },
     "metadata": {
      "application/vnd.databricks.v1.subcommand+json": {
       "baseErrorDetails": null,
       "bindings": {},
       "collapsed": false,
       "command": "%python\n__backend_agg_display_orig = display\n__backend_agg_dfs = []\ndef __backend_agg_display_new(df):\n    __backend_agg_df_modules = [\"pandas.core.frame\", \"databricks.koalas.frame\", \"pyspark.sql.dataframe\", \"pyspark.pandas.frame\", \"pyspark.sql.connect.dataframe\"]\n    if (type(df).__module__ in __backend_agg_df_modules and type(df).__name__ == 'DataFrame') or isinstance(df, list):\n        __backend_agg_dfs.append(df)\n\ndisplay = __backend_agg_display_new\n\ndef __backend_agg_user_code_fn():\n    import base64\n    exec(base64.standard_b64decode(\"IyBSZW1vdmUgZHVwbGljYXRlIGNyb3Nzd2FsayBlbnRyaWVzLCBrZWVwIGVzc2VudGlhbCBjb2x1bW5zCmRmX2Nyb3Nzd2Fsa19kZWR1cCA9ICgKICAgIGRmX2Nyb3Nzd2FsawogICAgLmRyb3BEdXBsaWNhdGVzKFsnY2lkX2N1cnInLCAncGlkX2N1cnInLCAnY2lkX25leHQnLCAncGlkX25leHQnXSkKICAgIC53aXRoQ29sdW1uUmVuYW1lZCgnU1RBVFVTJywgJ2N3X3N0YXR1cycpCiAgICAuc2VsZWN0KFsnY2lkX2N1cnInLCAncGlkX2N1cnInLCAnY2lkX25leHQnLCAncGlkX25leHQnLCAnY3dfc3RhdHVzJ10pCikKCiMgQ2FsY3VsYXRlIGVucm9sbG1lbnQgYnkgcGxhbiB0eXBlIGFuZCBjcm9zc3dhbGsgc3RhdHVzCiMgS2V5IG1ldHJpYzogJ1Rlcm1pbmF0ZWQnIHN0YXR1cyBzaG93cyBtZW1iZXJzIG5lZWRpbmcgdG8gYWN0aXZlbHkgY2hvb3NlIG5ldyBwbGFucwooCiAgICBkZl9lbnJvbGxtZW50CiAgICAuam9pbihkZl9jcm9zc3dhbGtfZGVkdXAsIG9uPVsnY2lkX2N1cnInLCAncGlkX2N1cnInXSwgaG93PSdsZWZ0JykKICAgIC5ncm91cEJ5KCdwbGFuX3R5cGUnLCAnY3dfc3RhdHVzJykKICAgIC5hZ2coRi5zdW0oJ2Vucm9sbG1lbnQnKS5hbGlhcygnY291bnQnKSkKKS5kaXNwbGF5KCk=\").decode())\n\ntry:\n    # run user code\n    __backend_agg_user_code_fn()\n\n    #reset display function\n    display = __backend_agg_display_orig\n\n    if len(__backend_agg_dfs) > 0:\n        # create a temp view\n        if type(__backend_agg_dfs[0]).__module__ == \"databricks.koalas.frame\":\n            # koalas dataframe\n            __backend_agg_dfs[0].to_spark().createOrReplaceTempView(\"DatabricksView5a505d9\")\n        elif type(__backend_agg_dfs[0]).__module__ == \"pandas.core.frame\" or isinstance(__backend_agg_dfs[0], list):\n            # pandas dataframe\n            spark.createDataFrame(__backend_agg_dfs[0]).createOrReplaceTempView(\"DatabricksView5a505d9\")\n        else:\n            __backend_agg_dfs[0].createOrReplaceTempView(\"DatabricksView5a505d9\")\n        #run backend agg\n        display(spark.sql(\"\"\"WITH q AS (select * from DatabricksView5a505d9) SELECT `plan_type`,`cw_status`,SUM(`count`) `column_28ed0f9528` FROM q GROUP BY `cw_status`,`plan_type`\"\"\"))\n    else:\n        displayHTML(\"dataframe no longer exists. If you're using dataframe.display(), use display(dataframe) instead.\")\n\n\nfinally:\n    spark.sql(\"drop view if exists DatabricksView5a505d9\")\n    display = __backend_agg_display_orig\n    del __backend_agg_display_new\n    del __backend_agg_display_orig\n    del __backend_agg_dfs\n    del __backend_agg_user_code_fn\n\n",
       "commandTitle": "Visualization 1",
       "commandType": "auto",
       "commandVersion": 0,
       "commentThread": [],
       "commentsVisible": false,
       "contentSha256Hex": null,
       "customPlotOptions": {
        "redashChart": [
         {
          "key": "type",
          "value": "CHART"
         },
         {
          "key": "options",
          "value": {
           "alignYAxesAtZero": true,
           "coefficient": 1,
           "columnConfigurationMap": {
            "series": {
             "column": "cw_status",
             "id": "column_28ed0f9527"
            },
            "x": {
             "column": "plan_type",
             "id": "column_28ed0f9526"
            },
            "y": [
             {
              "column": "count",
              "id": "column_28ed0f9528",
              "transform": "SUM"
             }
            ]
           },
           "dateTimeFormat": "DD/MM/YYYY HH:mm",
           "direction": {
            "type": "counterclockwise"
           },
           "error_y": {
            "type": "data",
            "visible": true
           },
           "globalSeriesType": "column",
           "legend": {
            "traceorder": "normal"
           },
           "missingValuesAsZero": true,
           "numberFormat": "0,0.[00000]",
           "percentFormat": "0[.]00%",
           "series": {
            "error_y": {
             "type": "data",
             "visible": true
            },
            "stacking": "stack"
           },
           "seriesOptions": {
            "column_28ed0f9528": {
             "name": "count",
             "yAxis": 0
            }
           },
           "showDataLabels": false,
           "sizemode": "diameter",
           "sortX": true,
           "sortY": true,
           "swappedAxes": true,
           "textFormat": "",
           "useAggregationsUi": true,
           "valuesOptions": {},
           "version": 2,
           "xAxis": {
            "labels": {
             "enabled": true
            },
            "type": "-"
           },
           "yAxis": [
            {
             "type": "-"
            },
            {
             "opposite": true,
             "type": "-"
            }
           ]
          }
         }
        ]
       },
       "datasetPreviewNameToCmdIdMap": {},
       "diffDeletes": [],
       "diffInserts": [],
       "displayType": "redashChart",
       "error": null,
       "errorDetails": null,
       "errorSummary": null,
       "errorTraceType": null,
       "finishTime": 0,
       "globalVars": {},
       "guid": "",
       "height": "auto",
       "hideCommandCode": false,
       "hideCommandResult": false,
       "iPythonMetadata": null,
       "inputWidgets": {},
       "isLockedInExamMode": false,
       "latestUser": "a user",
       "latestUserId": null,
       "listResultMetadata": null,
       "metadata": {},
       "nuid": "deee7f4f-aeed-447f-a48a-ccd0c609d278",
       "origId": 0,
       "parentHierarchy": [],
       "pivotAggregation": null,
       "pivotColumns": null,
       "position": 2.6875,
       "resultDbfsErrorMessage": null,
       "resultDbfsStatus": "INLINED_IN_TREE",
       "results": null,
       "showCommandTitle": false,
       "startTime": 0,
       "state": "input",
       "streamStates": {},
       "subcommandOptions": {
        "queryPlan": {
         "groups": [
          {
           "column": "plan_type",
           "type": "column"
          },
          {
           "column": "cw_status",
           "type": "column"
          }
         ],
         "selects": [
          {
           "column": "plan_type",
           "type": "column"
          },
          {
           "column": "cw_status",
           "type": "column"
          },
          {
           "alias": "column_28ed0f9528",
           "args": [
            {
             "column": "count",
             "type": "column"
            }
           ],
           "function": "SUM",
           "type": "function"
          }
         ]
        }
       },
       "submitTime": 0,
       "subtype": "tableResultSubCmd.visualization",
       "tableResultIndex": 0,
       "tableResultSettingsMap": {},
       "useConsistentColors": false,
       "version": "CommandV1",
       "width": "auto",
       "workflows": null,
       "xColumns": null,
       "yColumns": null
      }
     },
     "output_type": "display_data"
    }
   ],
   "source": [
    "# Remove duplicate crosswalk entries, keep essential columns\n",
    "df_crosswalk_dedup = (\n",
    "    df_crosswalk\n",
    "    .dropDuplicates(['cid_curr', 'pid_curr', 'cid_next', 'pid_next'])\n",
    "    .withColumnRenamed('STATUS', 'cw_status')\n",
    "    .select(['cid_curr', 'pid_curr', 'cid_next', 'pid_next', 'cw_status'])\n",
    ")\n",
    "\n",
    "# Calculate enrollment by plan type and crosswalk status\n",
    "# Key metric: 'Terminated' status shows members needing to actively choose new plans\n",
    "(\n",
    "    df_enrollment\n",
    "    .join(df_crosswalk_dedup, on=['cid_curr', 'pid_curr'], how='left')\n",
    "    .groupBy('plan_type', 'cw_status')\n",
    "    .agg(F.sum('enrollment').alias('count'))\n",
    ").display()"
   ]
  },
  {
   "cell_type": "markdown",
   "metadata": {
    "application/vnd.databricks.v1+cell": {
     "cellMetadata": {
      "byteLimit": 2048000,
      "rowLimit": 10000
     },
     "inputWidgets": {},
     "nuid": "6ca86c0f-9df8-4bd6-ae07-80c8954c3771",
     "showTitle": false,
     "tableResultSettingsMap": {},
     "title": ""
    }
   },
   "source": [
    "# 3. Medicare Part D Drug Deductible Changes 2024-2025\n",
    "\n",
    "Analysis of Part D drug deductible changes between 2024 and 2025 plan years. Limited to continuously existing plans present in both years' landscape files. Member transitions only occur as specified in the plan crosswalk file; no additional churn assumed.\n",
    "\n",
    "## Analysis Scope\n",
    "- Plans: Only those present in both 2024 and 2025 landscape files\n",
    "- Membership: Based on October 2024 enrollment\n",
    "- Transitions: Following plan crosswalk specifications only"
   ]
  },
  {
   "cell_type": "code",
   "execution_count": 0,
   "metadata": {
    "application/vnd.databricks.v1+cell": {
     "cellMetadata": {
      "byteLimit": 2048000,
      "rowLimit": 10000
     },
     "inputWidgets": {},
     "nuid": "a5743ef0-e808-4b93-9563-9cce0de2380f",
     "showTitle": false,
     "tableResultSettingsMap": {},
     "title": ""
    }
   },
   "outputs": [],
   "source": [
    "# MAPD plans use county-level data\n",
    "df_curr_county = (\n",
    "    df_landscape_curr\n",
    "    .select('state', 'county', 'cid_curr', 'pid_curr', \n",
    "            F.col('dd_curr').alias('dd_curr_county'))\n",
    ")\n",
    "\n",
    "# PDP plans use state-level data (All Counties)\n",
    "df_curr_state = (\n",
    "    df_landscape_curr\n",
    "    .where(\"county = '(All Counties)'\")\n",
    "    .select('state', 'cid_curr', 'pid_curr', \n",
    "            F.col('dd_curr').alias('dd_curr_state'))\n",
    ")\n",
    "\n",
    "# Next year data with same geographic logic as current year\n",
    "df_next_county = (  # MAPD: county-level\n",
    "    df_landscape_next\n",
    "    .select('state', 'county', 'cid_next', 'pid_next', \n",
    "            F.col('dd_next').alias('dd_next_county'))\n",
    ")\n",
    "\n",
    "df_next_state = (  # PDP: state-level\n",
    "    df_landscape_next\n",
    "    .where(\"county = 'All Counties'\")\n",
    "    .select('state', 'cid_next', 'pid_next',\n",
    "            F.col('dd_next').alias('dd_next_state'))\n",
    ")\n",
    "\n",
    "\n",
    "# Calculate regional bounds for estimating deductibles of terminated plans\n",
    "df_next_county_bounds = (  # MAPD: county-level bounds\n",
    "    df_landscape_next\n",
    "    .groupBy('state', 'county')\n",
    "    .agg(\n",
    "        F.max('dd_next').alias('dd_next_county_max'),\n",
    "        F.min('dd_next').alias('dd_next_county_min')\n",
    "    )\n",
    ")\n",
    "\n",
    "df_next_state_bounds = (  # PDP: state-level bounds\n",
    "    df_landscape_next\n",
    "    .groupBy('state')\n",
    "    .agg(\n",
    "        F.max('dd_next').alias('dd_next_state_max'),\n",
    "        F.min('dd_next').alias('dd_next_state_min')\n",
    "    )\n",
    ")\n",
    "\n",
    "# Combine data and calculate deductible changes\n",
    "df_analysis = (\n",
    "    df_enrollment\n",
    "    .join(df_crosswalk_dedup, on=['cid_curr', 'pid_curr'], how='left')\n",
    "    .join(df_curr_county, on=['state', 'county', 'cid_curr', 'pid_curr'], how='left')  # MAPD\n",
    "    .join(df_curr_state, on=['state', 'cid_curr', 'pid_curr'], how='left')             # PDP\n",
    "    .join(df_next_county, on=['state', 'county', 'cid_next', 'pid_next'], how='left')  # MAPD\n",
    "    .join(df_next_state, on=['state', 'cid_next', 'pid_next'], how='left')             # PDP\n",
    "    .join(df_next_county_bounds, on=['state', 'county'], how='left')\n",
    "    .join(df_next_state_bounds, on=['state'], how='left')\n",
    "    .withColumn('dd_curr', F.coalesce('dd_curr_county', 'dd_curr_state'))\n",
    "    .withColumn('dd_next', F.coalesce('dd_next_county', 'dd_next_state'))\n",
    "    # For terminated plans: use regional min/max as bounds for possible deductible changes\n",
    "    .withColumn('dd_next_max', \n",
    "        F.when(F.col('cw_status') != 'Terminated/Non-renewed Contract', F.col('dd_next'))\n",
    "         .otherwise(F.coalesce('dd_next_county_max', 'dd_next_state_max')))\n",
    "    .withColumn('dd_next_min', \n",
    "        F.when(F.col('cw_status') != 'Terminated/Non-renewed Contract', F.col('dd_next'))\n",
    "         .otherwise(F.coalesce('dd_next_county_min', 'dd_next_state_min')))\n",
    "    # Calculate deductible differences using bounds\n",
    "    .withColumn('dd_diff_max', F.col('dd_next_max') - F.col('dd_curr'))\n",
    "    .withColumn('dd_diff_min', F.col('dd_next_min') - F.col('dd_curr'))\n",
    "    .withColumn('wt_dd_diff_max', F.col('dd_diff_max') * F.col('enrollment'))\n",
    "    .withColumn('wt_dd_diff_min', F.col('dd_diff_min') * F.col('enrollment'))\n",
    "    .select([\n",
    "        'plan_type', 'offers_part_d', 'parent_organization', \n",
    "        'organization_marketing_name', 'state', 'county',\n",
    "        'cid_curr', 'pid_curr', 'enrollment',\n",
    "        'dd_curr', 'dd_next_max', 'dd_next_min',\n",
    "        'dd_diff_max', 'dd_diff_min',\n",
    "        'wt_dd_diff_max', 'wt_dd_diff_min', 'cw_status'\n",
    "    ])\n",
    ")"
   ]
  },
  {
   "cell_type": "code",
   "execution_count": 0,
   "metadata": {
    "application/vnd.databricks.v1+cell": {
     "cellMetadata": {
      "byteLimit": 2048000,
      "rowLimit": 10000
     },
     "inputWidgets": {},
     "nuid": "7aab9c7d-3e6f-47ff-bee5-fabea9f5e5a4",
     "showTitle": false,
     "tableResultSettingsMap": {},
     "title": ""
    }
   },
   "outputs": [],
   "source": [
    "# Calculate average deductible changes across all plans\n",
    "# Range represents min/max possible changes based on regional bounds\n",
    "(df_analysis\n",
    "    .select(\n",
    "        F.sum('wt_dd_diff_max')/F.sum('enrollment'),  # Upper bound of avg change\n",
    "        F.sum('wt_dd_diff_min')/F.sum('enrollment'),  # Lower bound of avg change\n",
    "        F.sum('enrollment')                           # Total members affected\n",
    "    )\n",
    ").show()\n",
    "\n",
    "# Analyze deductible changes for MA/MAPD plans only (excluding PDP)\n",
    "# Helps understand impact on Medicare Advantage population specifically\n",
    "(df_analysis\n",
    "    .where(\"plan_type != 'Medicare Prescription Drug Plan'\")\n",
    "    .select(\n",
    "        F.sum('wt_dd_diff_max')/F.sum('enrollment'),  # MA/MAPD upper bound\n",
    "        F.sum('wt_dd_diff_min')/F.sum('enrollment'),  # MA/MAPD lower bound\n",
    "        F.sum('enrollment')                           # MA/MAPD members affected\n",
    "    )\n",
    ").show()\n",
    "\n",
    "# Analyze impact on members who had $0 deductible in 2024\n",
    "# Critical metric: shows how many members lose their \"no deductible\" benefit\n",
    "(df_analysis\n",
    "    .where(\"dd_curr = 0\")\n",
    "    .select(\n",
    "        F.sum('wt_dd_diff_max')/F.sum('enrollment'),  # Max increase from $0\n",
    "        F.sum('wt_dd_diff_min')/F.sum('enrollment'),  # Min increase from $0\n",
    "        F.sum('enrollment')                           # Members losing $0 deductible\n",
    "    )\n",
    ").show()"
   ]
  },
  {
   "cell_type": "code",
   "execution_count": 0,
   "metadata": {
    "application/vnd.databricks.v1+cell": {
     "cellMetadata": {
      "byteLimit": 2048000,
      "rowLimit": 10000
     },
     "inputWidgets": {},
     "nuid": "61767b52-3f34-48ac-8363-214fbf974c43",
     "showTitle": false,
     "tableResultSettingsMap": {},
     "title": ""
    }
   },
   "outputs": [],
   "source": []
  }
 ],
 "metadata": {
  "application/vnd.databricks.v1+notebook": {
   "dashboards": [],
   "environmentMetadata": {
    "base_environment": "",
    "client": "1"
   },
   "language": "python",
   "notebookMetadata": {
    "pythonIndentUnit": 4
   },
   "notebookName": "2024-10-31_AJMC_article",
   "widgets": {}
  },
  "language_info": {
   "name": "python"
  }
 },
 "nbformat": 4,
 "nbformat_minor": 0
}
